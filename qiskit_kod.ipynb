{
 "cells": [
  {
   "cell_type": "code",
   "execution_count": 8,
   "metadata": {},
   "outputs": [
    {
     "name": "stdout",
     "output_type": "stream",
     "text": [
      "qiskit version: 1.4.0\n"
     ]
    }
   ],
   "source": [
    "import qiskit\n",
    "print(\"qiskit version:\", qiskit.__version__)"
   ]
  },
  {
   "cell_type": "code",
   "execution_count": 9,
   "metadata": {},
   "outputs": [],
   "source": [
    "#from qiskit import IBMQ\n",
    "\n",
    "# Save your IBM Quantum API token\n",
    "#IBMQ.save_account('a80d2cab0d6db0c274e192f348e18e6c40499d0f97008669e43bfb5db60e9084815b9cd4c8f06740e565a04e6e5a0fc09c39566a8fd79abe309f4ad77bedf432')"
   ]
  },
  {
   "cell_type": "code",
   "execution_count": 40,
   "metadata": {},
   "outputs": [
    {
     "name": "stdout",
     "output_type": "stream",
     "text": [
      "Grover's Algorithm Output: {'010': 797, '101': 35, '100': 30, '111': 37, '000': 29, '110': 39, '001': 30, '011': 27}\n"
     ]
    }
   ],
   "source": [
    "from qiskit import QuantumCircuit, transpile\n",
    "from qiskit.quantum_info import Operator\n",
    "from qiskit_aer import AerSimulator\n",
    "from qiskit_aer.primitives import SamplerV2\n",
    "import numpy as np\n",
    "\n",
    "# Function to create phase oracle\n",
    "def phase_oracle(n, indices_to_mark, name='Oracle'):\n",
    "    qc = QuantumCircuit(n, name=name)\n",
    "    oracle_matrix = np.identity(2**n)\n",
    "    for index_to_mark in indices_to_mark:\n",
    "        oracle_matrix[index_to_mark, index_to_mark] = -1\n",
    "    qc.unitary(Operator(oracle_matrix), range(n))\n",
    "    return qc\n",
    "\n",
    "# Optimization: using a dictionary to save created diffusers\n",
    "diffuser_dict = {}\n",
    "def diffuser(n):\n",
    "    if n not in diffuser_dict:\n",
    "        qc = QuantumCircuit(n, name='Diffuser')\n",
    "        qc.h(range(n))\n",
    "        qc.append(phase_oracle(n, [0]), range(n))\n",
    "        qc.h(range(n))\n",
    "        diffuser_dict[n] = qc\n",
    "    return diffuser_dict[n]\n",
    "\n",
    "# Grover's Algorithm Circuit\n",
    "def Grover(n, indices_to_mark, r):\n",
    "    qc = QuantumCircuit(n, n)\n",
    "    qc.h(range(n))\n",
    "    qc_oracle = phase_oracle(n, indices_to_mark)\n",
    "    qc_diffuser = diffuser(n)\n",
    "    for _ in range(r):\n",
    "        qc.append(qc_oracle, range(n))\n",
    "        qc.append(qc_diffuser, range(n))\n",
    "    qc.measure(range(n), range(n))\n",
    "    return qc\n",
    "\n",
    "# Simulating Grover's Algorithm\n",
    "def run_grover(n, indices_to_mark, r, shots=1024):\n",
    "    sim = AerSimulator()\n",
    "    sampler = SamplerV2()\n",
    "    grover_circuit = Grover(n, indices_to_mark, r)\n",
    "    grover_circuit = transpile(grover_circuit, sim, optimization_level=0)\n",
    "    job = sampler.run([(grover_circuit, [])], shots=shots)  # Fixed incorrect sampler input format\n",
    "    result = job.result()\n",
    "    print(f\"Grover's Algorithm Output: {result[0].data.c.get_counts()}\")\n",
    "\n",
    "# Example: Finding marked states in a 3-qubit system\n",
    "run_grover(n=3, indices_to_mark=[2], r=1, shots=1024)"
   ]
  }
 ],
 "metadata": {
  "kernelspec": {
   "display_name": ".venv",
   "language": "python",
   "name": "python3"
  },
  "language_info": {
   "codemirror_mode": {
    "name": "ipython",
    "version": 3
   },
   "file_extension": ".py",
   "mimetype": "text/x-python",
   "name": "python",
   "nbconvert_exporter": "python",
   "pygments_lexer": "ipython3",
   "version": "3.12.2"
  }
 },
 "nbformat": 4,
 "nbformat_minor": 2
}
