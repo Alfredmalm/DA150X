{
 "cells": [
  {
   "cell_type": "code",
   "execution_count": 1,
   "metadata": {},
   "outputs": [
    {
     "ename": "ImportError",
     "evalue": "Qiskit is installed in an invalid environment that has both Qiskit >=1.0 and an earlier version. You should create a new virtual environment, and ensure that you do not mix dependencies between Qiskit <1.0 and >=1.0. Any packages that depend on 'qiskit-terra' are not compatible with Qiskit 1.0 and will need to be updated. Qiskit unfortunately cannot enforce this requirement during environment resolution. See https://qisk.it/packaging-1-0 for more detail.",
     "output_type": "error",
     "traceback": [
      "\u001b[31m---------------------------------------------------------------------------\u001b[39m",
      "\u001b[31mImportError\u001b[39m                               Traceback (most recent call last)",
      "\u001b[36mCell\u001b[39m\u001b[36m \u001b[39m\u001b[32mIn[1]\u001b[39m\u001b[32m, line 1\u001b[39m\n\u001b[32m----> \u001b[39m\u001b[32m1\u001b[39m \u001b[38;5;28;01mfrom\u001b[39;00m\u001b[38;5;250m \u001b[39m\u001b[34;01mqiskit\u001b[39;00m\u001b[38;5;250m \u001b[39m\u001b[38;5;28;01mimport\u001b[39;00m IBMQ\n\u001b[32m      2\u001b[39m \u001b[38;5;28;01mfrom\u001b[39;00m\u001b[38;5;250m \u001b[39m\u001b[34;01mqiskit_aer\u001b[39;00m\u001b[34;01m.\u001b[39;00m\u001b[34;01mnoise\u001b[39;00m\u001b[38;5;250m \u001b[39m\u001b[38;5;28;01mimport\u001b[39;00m NoiseModel\n\u001b[32m      3\u001b[39m \u001b[38;5;28;01mfrom\u001b[39;00m\u001b[38;5;250m \u001b[39m\u001b[34;01mqiskit\u001b[39;00m\u001b[38;5;250m \u001b[39m\u001b[38;5;28;01mimport\u001b[39;00m QuantumCircuit, transpile\n",
      "\u001b[36mFile \u001b[39m\u001b[32mc:\\venv\\Lib\\site-packages\\qiskit\\__init__.py:38\u001b[39m\n\u001b[32m     36\u001b[39m     _suppress_error = os.environ.get(\u001b[33m\"\u001b[39m\u001b[33mQISKIT_SUPPRESS_1_0_IMPORT_ERROR\u001b[39m\u001b[33m\"\u001b[39m, \u001b[38;5;28;01mFalse\u001b[39;00m) == \u001b[33m\"\u001b[39m\u001b[33m1\u001b[39m\u001b[33m\"\u001b[39m\n\u001b[32m     37\u001b[39m     \u001b[38;5;28;01mif\u001b[39;00m \u001b[38;5;28mint\u001b[39m(_major) > \u001b[32m0\u001b[39m \u001b[38;5;129;01mand\u001b[39;00m \u001b[38;5;129;01mnot\u001b[39;00m _suppress_error:\n\u001b[32m---> \u001b[39m\u001b[32m38\u001b[39m         \u001b[38;5;28;01mraise\u001b[39;00m \u001b[38;5;167;01mImportError\u001b[39;00m(\n\u001b[32m     39\u001b[39m             \u001b[33m\"\u001b[39m\u001b[33mQiskit is installed in an invalid environment that has both Qiskit >=1.0\u001b[39m\u001b[33m\"\u001b[39m\n\u001b[32m     40\u001b[39m             \u001b[33m\"\u001b[39m\u001b[33m and an earlier version.\u001b[39m\u001b[33m\"\u001b[39m\n\u001b[32m     41\u001b[39m             \u001b[33m\"\u001b[39m\u001b[33m You should create a new virtual environment, and ensure that you do not mix\u001b[39m\u001b[33m\"\u001b[39m\n\u001b[32m     42\u001b[39m             \u001b[33m\"\u001b[39m\u001b[33m dependencies between Qiskit <1.0 and >=1.0.\u001b[39m\u001b[33m\"\u001b[39m\n\u001b[32m     43\u001b[39m             \u001b[33m\"\u001b[39m\u001b[33m Any packages that depend on \u001b[39m\u001b[33m'\u001b[39m\u001b[33mqiskit-terra\u001b[39m\u001b[33m'\u001b[39m\u001b[33m are not compatible with Qiskit 1.0 and\u001b[39m\u001b[33m\"\u001b[39m\n\u001b[32m     44\u001b[39m             \u001b[33m\"\u001b[39m\u001b[33m will need to be updated.\u001b[39m\u001b[33m\"\u001b[39m\n\u001b[32m     45\u001b[39m             \u001b[33m\"\u001b[39m\u001b[33m Qiskit unfortunately cannot enforce this requirement during environment resolution.\u001b[39m\u001b[33m\"\u001b[39m\n\u001b[32m     46\u001b[39m             \u001b[33m\"\u001b[39m\u001b[33m See https://qisk.it/packaging-1-0 for more detail.\u001b[39m\u001b[33m\"\u001b[39m\n\u001b[32m     47\u001b[39m         )\n\u001b[32m     49\u001b[39m \u001b[38;5;28;01mimport\u001b[39;00m\u001b[38;5;250m \u001b[39m\u001b[34;01mqiskit\u001b[39;00m\u001b[34;01m.\u001b[39;00m\u001b[34;01m_accelerate\u001b[39;00m\n\u001b[32m     50\u001b[39m \u001b[38;5;28;01mimport\u001b[39;00m\u001b[38;5;250m \u001b[39m\u001b[34;01mqiskit\u001b[39;00m\u001b[34;01m.\u001b[39;00m\u001b[34;01m_numpy_compat\u001b[39;00m\n",
      "\u001b[31mImportError\u001b[39m: Qiskit is installed in an invalid environment that has both Qiskit >=1.0 and an earlier version. You should create a new virtual environment, and ensure that you do not mix dependencies between Qiskit <1.0 and >=1.0. Any packages that depend on 'qiskit-terra' are not compatible with Qiskit 1.0 and will need to be updated. Qiskit unfortunately cannot enforce this requirement during environment resolution. See https://qisk.it/packaging-1-0 for more detail."
     ]
    }
   ],
   "source": [
    "from qiskit import IBMQ\n",
    "from qiskit_aer.noise import NoiseModel\n",
    "from qiskit import QuantumCircuit, transpile\n",
    "from qiskit_aer import AerSimulator\n",
    "from qiskit.visualization import plot_histogram\n",
    "\n",
    "# Make a circuit\n",
    "circ = QuantumCircuit(3, 3)\n",
    "circ.h(0)\n",
    "circ.cx(0, 1)\n",
    "circ.cx(1, 2)\n",
    "circ.measure([0, 1, 2], [0, 1, 2])\n",
    "\n",
    "# Get the noise model of ibmq_lima\n",
    "provider = IBMQ.load_account()\n",
    "provider = IBMQ.get_provider(hub='ibm-q', group='open', project='main')\n",
    "backend_lima = provider.get_backend('ibmq_lima')\n",
    "noise_model = NoiseModel.from_backend(backend_lima)\n",
    "\n",
    "# Get coupling map from backend\n",
    "coupling_map = backend_lima.configuration().coupling_map\n",
    "\n",
    "# Get basis gates from noise model\n",
    "basis_gates = noise_model.basis_gates\n",
    "\n",
    "# Perform a noise simulation\n",
    "backend = AerSimulator(noise_model=noise_model,\n",
    "                       coupling_map=coupling_map,\n",
    "                       basis_gates=basis_gates)\n",
    "transpiled_circuit = transpile(circ, backend)\n",
    "result = backend.run(transpiled_circuit).result()\n",
    "\n",
    "counts = result.get_counts(0)\n",
    "plot_histogram(counts)"
   ]
  }
 ],
 "metadata": {
  "kernelspec": {
   "display_name": "venv",
   "language": "python",
   "name": "python3"
  },
  "language_info": {
   "codemirror_mode": {
    "name": "ipython",
    "version": 3
   },
   "file_extension": ".py",
   "mimetype": "text/x-python",
   "name": "python",
   "nbconvert_exporter": "python",
   "pygments_lexer": "ipython3",
   "version": "3.11.1"
  }
 },
 "nbformat": 4,
 "nbformat_minor": 2
}
